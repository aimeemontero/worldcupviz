{
 "cells": [
  {
   "cell_type": "code",
   "execution_count": 173,
   "metadata": {
    "collapsed": true
   },
   "outputs": [],
   "source": [
    "import pandas as pd\n",
    "import numpy as np\n",
    "import os\n",
    "import json\n",
    "import glob\n",
    "import csv"
   ]
  },
  {
   "cell_type": "markdown",
   "metadata": {},
   "source": [
    "## OUTPUT IS A JSON"
   ]
  },
  {
   "cell_type": "markdown",
   "metadata": {},
   "source": [
    "dict----->'USA'------>'1994'------>'teamcards'<br />\n",
    "&nbsp;&nbsp;&nbsp;&nbsp;&nbsp;&nbsp;&nbsp;&nbsp;&nbsp;&nbsp;&nbsp;&nbsp;&nbsp;&nbsp;&nbsp;&nbsp;&nbsp;&nbsp;&nbsp;&nbsp;&nbsp;&nbsp;&nbsp;&nbsp;&nbsp;&nbsp;&nbsp;&nbsp;&nbsp;&nbsp;&nbsp;&nbsp;&nbsp;&nbsp;&nbsp;&nbsp;&nbsp;&nbsp;&nbsp;&nbsp;&nbsp;&nbsp;&nbsp;&nbsp;\n",
    "------>'playercards'<br />\n",
    "&nbsp;&nbsp;&nbsp;&nbsp;&nbsp;&nbsp;&nbsp;&nbsp;&nbsp;&nbsp;&nbsp;&nbsp;&nbsp;&nbsp;&nbsp;&nbsp;&nbsp;&nbsp;&nbsp;&nbsp;&nbsp;&nbsp;&nbsp;&nbsp;&nbsp;&nbsp;&nbsp;&nbsp;&nbsp;&nbsp;&nbsp;&nbsp;&nbsp;&nbsp;&nbsp;&nbsp;&nbsp;&nbsp;&nbsp;&nbsp;&nbsp;&nbsp;&nbsp;&nbsp;\n",
    "------>'teamgoals'<br />\n",
    "&nbsp;&nbsp;&nbsp;&nbsp;&nbsp;&nbsp;&nbsp;&nbsp;&nbsp;&nbsp;&nbsp;&nbsp;&nbsp;&nbsp;&nbsp;&nbsp;&nbsp;&nbsp;&nbsp;&nbsp;&nbsp;&nbsp;&nbsp;&nbsp;&nbsp;&nbsp;&nbsp;&nbsp;&nbsp;&nbsp;&nbsp;&nbsp;&nbsp;&nbsp;&nbsp;&nbsp;&nbsp;&nbsp;&nbsp;&nbsp;&nbsp;&nbsp;&nbsp;&nbsp;\n",
    "------>'playergoals'<br />\n",
    "&nbsp;&nbsp;&nbsp;&nbsp;&nbsp;&nbsp;&nbsp;&nbsp;&nbsp;&nbsp;&nbsp;&nbsp;&nbsp;&nbsp;&nbsp;&nbsp;&nbsp;&nbsp;&nbsp;&nbsp;&nbsp;&nbsp;&nbsp;&nbsp;&nbsp;&nbsp;&nbsp;&nbsp;&nbsp;&nbsp;&nbsp;&nbsp;&nbsp;&nbsp;&nbsp;&nbsp;&nbsp;&nbsp;&nbsp;&nbsp;&nbsp;&nbsp;&nbsp;&nbsp;\n",
    "------>'matches'<br />\n",
    "&nbsp;&nbsp;&nbsp;&nbsp;&nbsp;&nbsp;&nbsp;&nbsp;&nbsp;&nbsp;&nbsp;&nbsp;&nbsp;&nbsp;&nbsp;&nbsp;&nbsp;&nbsp;&nbsp;&nbsp;&nbsp;&nbsp;&nbsp;&nbsp;&nbsp;&nbsp;&nbsp;&nbsp;&nbsp;&nbsp;&nbsp;&nbsp;&nbsp;&nbsp;&nbsp;&nbsp;&nbsp;&nbsp;&nbsp;&nbsp;&nbsp;&nbsp;&nbsp;&nbsp;\n",
    "------>'squads'<br />\n",
    "&nbsp;&nbsp;&nbsp;&nbsp;&nbsp;&nbsp;&nbsp;&nbsp;&nbsp;&nbsp;&nbsp;&nbsp;&nbsp;&nbsp;&nbsp;&nbsp;&nbsp;&nbsp;&nbsp;&nbsp;&nbsp;&nbsp;&nbsp;&nbsp;&nbsp;------>'2014'------>'teamcards'<br />\n",
    "&nbsp;&nbsp;&nbsp;&nbsp;&nbsp;&nbsp;&nbsp;&nbsp;&nbsp;&nbsp;&nbsp;&nbsp;&nbsp;&nbsp;&nbsp;&nbsp;&nbsp;&nbsp;&nbsp;&nbsp;&nbsp;&nbsp;&nbsp;&nbsp;&nbsp;&nbsp;&nbsp;&nbsp;&nbsp;&nbsp;&nbsp;&nbsp;&nbsp;&nbsp;&nbsp;&nbsp;&nbsp;&nbsp;&nbsp;&nbsp;&nbsp;&nbsp;&nbsp;&nbsp;\n",
    "------>'playercards'<br />\n",
    "&nbsp;&nbsp;&nbsp;&nbsp;&nbsp;&nbsp;&nbsp;&nbsp;&nbsp;&nbsp;&nbsp;&nbsp;&nbsp;&nbsp;&nbsp;&nbsp;&nbsp;&nbsp;&nbsp;&nbsp;&nbsp;&nbsp;&nbsp;&nbsp;&nbsp;&nbsp;&nbsp;&nbsp;&nbsp;&nbsp;&nbsp;&nbsp;&nbsp;&nbsp;&nbsp;&nbsp;&nbsp;&nbsp;&nbsp;&nbsp;&nbsp;&nbsp;&nbsp;&nbsp;\n",
    "------>'teamgoals'<br />\n",
    "&nbsp;&nbsp;&nbsp;&nbsp;&nbsp;&nbsp;&nbsp;&nbsp;&nbsp;&nbsp;&nbsp;&nbsp;&nbsp;&nbsp;&nbsp;&nbsp;&nbsp;&nbsp;&nbsp;&nbsp;&nbsp;&nbsp;&nbsp;&nbsp;&nbsp;&nbsp;&nbsp;&nbsp;&nbsp;&nbsp;&nbsp;&nbsp;&nbsp;&nbsp;&nbsp;&nbsp;&nbsp;&nbsp;&nbsp;&nbsp;&nbsp;&nbsp;&nbsp;&nbsp;\n",
    "------>'playergoals'<br />\n",
    "&nbsp;&nbsp;&nbsp;&nbsp;&nbsp;&nbsp;&nbsp;&nbsp;&nbsp;&nbsp;&nbsp;&nbsp;&nbsp;&nbsp;&nbsp;&nbsp;&nbsp;&nbsp;&nbsp;&nbsp;&nbsp;&nbsp;&nbsp;&nbsp;&nbsp;&nbsp;&nbsp;&nbsp;&nbsp;&nbsp;&nbsp;&nbsp;&nbsp;&nbsp;&nbsp;&nbsp;&nbsp;&nbsp;&nbsp;&nbsp;&nbsp;&nbsp;&nbsp;&nbsp;\n",
    "------>'matches'<br />\n",
    "&nbsp;&nbsp;&nbsp;&nbsp;&nbsp;&nbsp;&nbsp;&nbsp;&nbsp;&nbsp;&nbsp;&nbsp;&nbsp;&nbsp;&nbsp;&nbsp;&nbsp;&nbsp;&nbsp;&nbsp;&nbsp;&nbsp;&nbsp;&nbsp;&nbsp;&nbsp;&nbsp;&nbsp;&nbsp;&nbsp;&nbsp;&nbsp;&nbsp;&nbsp;&nbsp;&nbsp;&nbsp;&nbsp;&nbsp;&nbsp;&nbsp;&nbsp;&nbsp;&nbsp;\n",
    "------>'squads'<br />\n",
    "&nbsp;&nbsp;&nbsp;&nbsp;&nbsp;&nbsp;&nbsp;----->'SUI'------->'1930'------>'teamcards'<br />\n",
    "&nbsp;&nbsp;&nbsp;&nbsp;&nbsp;&nbsp;&nbsp;&nbsp;&nbsp;&nbsp;&nbsp;&nbsp;&nbsp;&nbsp;&nbsp;&nbsp;&nbsp;&nbsp;&nbsp;&nbsp;&nbsp;&nbsp;&nbsp;&nbsp;&nbsp;&nbsp;&nbsp;&nbsp;&nbsp;&nbsp;&nbsp;&nbsp;&nbsp;&nbsp;&nbsp;&nbsp;&nbsp;&nbsp;&nbsp;&nbsp;&nbsp;&nbsp;&nbsp;&nbsp;\n",
    "------>'playercards'<br />\n",
    "&nbsp;&nbsp;&nbsp;&nbsp;&nbsp;&nbsp;&nbsp;&nbsp;&nbsp;&nbsp;&nbsp;&nbsp;&nbsp;&nbsp;&nbsp;&nbsp;&nbsp;&nbsp;&nbsp;&nbsp;&nbsp;&nbsp;&nbsp;&nbsp;&nbsp;&nbsp;&nbsp;&nbsp;&nbsp;&nbsp;&nbsp;&nbsp;&nbsp;&nbsp;&nbsp;&nbsp;&nbsp;&nbsp;&nbsp;&nbsp;&nbsp;&nbsp;&nbsp;&nbsp;\n",
    "------>'teamgoals'<br />\n",
    "&nbsp;&nbsp;&nbsp;&nbsp;&nbsp;&nbsp;&nbsp;&nbsp;&nbsp;&nbsp;&nbsp;&nbsp;&nbsp;&nbsp;&nbsp;&nbsp;&nbsp;&nbsp;&nbsp;&nbsp;&nbsp;&nbsp;&nbsp;&nbsp;&nbsp;&nbsp;&nbsp;&nbsp;&nbsp;&nbsp;&nbsp;&nbsp;&nbsp;&nbsp;&nbsp;&nbsp;&nbsp;&nbsp;&nbsp;&nbsp;&nbsp;&nbsp;&nbsp;&nbsp;\n",
    "------>'playergoals'<br />\n",
    "&nbsp;&nbsp;&nbsp;&nbsp;&nbsp;&nbsp;&nbsp;&nbsp;&nbsp;&nbsp;&nbsp;&nbsp;&nbsp;&nbsp;&nbsp;&nbsp;&nbsp;&nbsp;&nbsp;&nbsp;&nbsp;&nbsp;&nbsp;&nbsp;&nbsp;&nbsp;&nbsp;&nbsp;&nbsp;&nbsp;&nbsp;&nbsp;&nbsp;&nbsp;&nbsp;&nbsp;&nbsp;&nbsp;&nbsp;&nbsp;&nbsp;&nbsp;&nbsp;&nbsp;\n",
    "------>'matches'<br />\n",
    "&nbsp;&nbsp;&nbsp;&nbsp;&nbsp;&nbsp;&nbsp;&nbsp;&nbsp;&nbsp;&nbsp;&nbsp;&nbsp;&nbsp;&nbsp;&nbsp;&nbsp;&nbsp;&nbsp;&nbsp;&nbsp;&nbsp;&nbsp;&nbsp;&nbsp;&nbsp;&nbsp;&nbsp;&nbsp;&nbsp;&nbsp;&nbsp;&nbsp;&nbsp;&nbsp;&nbsp;&nbsp;&nbsp;&nbsp;&nbsp;&nbsp;&nbsp;&nbsp;&nbsp;\n",
    "------>'squads'<br />"
   ]
  },
  {
   "cell_type": "code",
   "execution_count": 174,
   "metadata": {
    "collapsed": true
   },
   "outputs": [],
   "source": [
    "ROOT = 'World-Cup-Database/'"
   ]
  },
  {
   "cell_type": "code",
   "execution_count": 175,
   "metadata": {
    "collapsed": false,
    "scrolled": true
   },
   "outputs": [
    {
     "data": {
      "text/plain": [
       "['1930--uruguay',\n",
       " '1934--italy',\n",
       " '1938--france',\n",
       " '1950--brazil',\n",
       " '1954--switzerland',\n",
       " '1958--sweden',\n",
       " '1962--chile',\n",
       " '1966--england',\n",
       " '1970--mexico',\n",
       " '1974--germany',\n",
       " '1978--argentina',\n",
       " '1982--spain',\n",
       " '1986--mexico',\n",
       " '1990--italy',\n",
       " '1994--usa',\n",
       " '1998--france',\n",
       " '2002--koreajapan',\n",
       " '2006--germany',\n",
       " '2010--southafrica',\n",
       " '2014--brazil']"
      ]
     },
     "execution_count": 175,
     "metadata": {},
     "output_type": "execute_result"
    }
   ],
   "source": [
    "all_dirs = [ item for item in os.listdir(ROOT) if os.path.isdir(os.path.join(ROOT, item)) ]\n",
    "all_dirs = all_dirs[1:]\n",
    "all_dirs"
   ]
  },
  {
   "cell_type": "code",
   "execution_count": 176,
   "metadata": {
    "collapsed": false
   },
   "outputs": [],
   "source": [
    "list1 = []\n",
    "list2 = []\n",
    "list3 = []\n",
    "list4 = []\n",
    "list5 = []\n",
    "list6 = []\n",
    "for d in all_dirs:\n",
    "    MATCHES_PATH      = ROOT + d + '/matches/matches.csv'\n",
    "    PLAYER_CARDS_PATH = ROOT + d + '/statistics/player_top_cards.csv'\n",
    "    PLAYER_GOALS_PATH = ROOT + d + '/statistics/player_top_goals.csv'\n",
    "    TEAM_CARDS_PATH   = ROOT + d + '/statistics/team_top_cards.csv'\n",
    "    TEAM_GOALS_PATH   = ROOT + d + '/statistics/team_top_goals.csv'\n",
    "    TEAMS_PATH        = ROOT + d + '/teams/players.csv'\n",
    "    \n",
    "    \"\"\"Aggragate: have to put an extra column of year\"\"\"\n",
    "    year = d[:4]\n",
    "    pd1 = pd.read_csv(MATCHES_PATH)\n",
    "    pd1['Year'] = [year] * len(pd1)\n",
    "    pd2 = pd.read_csv(PLAYER_CARDS_PATH)\n",
    "    pd2['Year'] = [year] * len(pd2)\n",
    "    pd3 = pd.read_csv(PLAYER_GOALS_PATH)\n",
    "    pd3['Year'] = [year] * len(pd3)\n",
    "    pd4 = pd.read_csv(TEAM_CARDS_PATH)\n",
    "    pd4['Year'] = [year] * len(pd4)\n",
    "    pd5 = pd.read_csv(TEAM_GOALS_PATH)\n",
    "    pd5['Year'] = [year] * len(pd5)\n",
    "    pd6 = pd.read_csv(TEAMS_PATH)\n",
    "    pd6['Year'] = [year] * len(pd6)\n",
    "    \n",
    "    list1.append(pd1)\n",
    "    list2.append(pd2)\n",
    "    list3.append(pd3)\n",
    "    list4.append(pd4)\n",
    "    list5.append(pd5)\n",
    "    list6.append(pd6)    "
   ]
  },
  {
   "cell_type": "code",
   "execution_count": 177,
   "metadata": {
    "collapsed": false
   },
   "outputs": [],
   "source": [
    "matches_df      = pd.concat(list1)\n",
    "matches_df = matches_df.replace(np.nan, '', regex=True) # Penalty\n",
    "player_cards_df = pd.concat(list2)\n",
    "player_goals_df = pd.concat(list3)\n",
    "team_cards_df   = pd.concat(list4)\n",
    "team_goals_df   = pd.concat(list5)\n",
    "players_df      = pd.concat(list6)"
   ]
  },
  {
   "cell_type": "code",
   "execution_count": 178,
   "metadata": {
    "collapsed": false
   },
   "outputs": [
    {
     "data": {
      "text/html": [
       "<div>\n",
       "<table border=\"1\" class=\"dataframe\">\n",
       "  <thead>\n",
       "    <tr style=\"text-align: right;\">\n",
       "      <th></th>\n",
       "      <th>Age</th>\n",
       "      <th>Country</th>\n",
       "      <th>CountryCode</th>\n",
       "      <th>Player</th>\n",
       "      <th>Position</th>\n",
       "      <th>Year</th>\n",
       "    </tr>\n",
       "  </thead>\n",
       "  <tbody>\n",
       "    <tr>\n",
       "      <th>0</th>\n",
       "      <td>19 March 1909</td>\n",
       "      <td>Argentina</td>\n",
       "      <td>ARG</td>\n",
       "      <td>Atilio DEMARIA</td>\n",
       "      <td>Forward</td>\n",
       "      <td>1930</td>\n",
       "    </tr>\n",
       "    <tr>\n",
       "      <th>1</th>\n",
       "      <td>5 February 1910</td>\n",
       "      <td>Argentina</td>\n",
       "      <td>ARG</td>\n",
       "      <td>Francisco VARALLO</td>\n",
       "      <td>Forward</td>\n",
       "      <td>1930</td>\n",
       "    </tr>\n",
       "    <tr>\n",
       "      <th>2</th>\n",
       "      <td>5 May 1905</td>\n",
       "      <td>Argentina</td>\n",
       "      <td>ARG</td>\n",
       "      <td>Angel BOSSIO</td>\n",
       "      <td>Goalkeeper</td>\n",
       "      <td>1930</td>\n",
       "    </tr>\n",
       "    <tr>\n",
       "      <th>3</th>\n",
       "      <td>23 October 1908</td>\n",
       "      <td>Argentina</td>\n",
       "      <td>ARG</td>\n",
       "      <td>Juan BOTASSO</td>\n",
       "      <td>Goalkeeper</td>\n",
       "      <td>1930</td>\n",
       "    </tr>\n",
       "    <tr>\n",
       "      <th>4</th>\n",
       "      <td>23 February 1907</td>\n",
       "      <td>Argentina</td>\n",
       "      <td>ARG</td>\n",
       "      <td>Alberto CHIVIDINI</td>\n",
       "      <td>Defender</td>\n",
       "      <td>1930</td>\n",
       "    </tr>\n",
       "  </tbody>\n",
       "</table>\n",
       "</div>"
      ],
      "text/plain": [
       "                  Age    Country CountryCode             Player    Position  \\\n",
       "0     19 March 1909    Argentina         ARG     Atilio DEMARIA     Forward   \n",
       "1   5 February 1910    Argentina         ARG  Francisco VARALLO     Forward   \n",
       "2        5 May 1905    Argentina         ARG       Angel BOSSIO  Goalkeeper   \n",
       "3   23 October 1908    Argentina         ARG       Juan BOTASSO  Goalkeeper   \n",
       "4  23 February 1907    Argentina         ARG  Alberto CHIVIDINI    Defender   \n",
       "\n",
       "   Year  \n",
       "0  1930  \n",
       "1  1930  \n",
       "2  1930  \n",
       "3  1930  \n",
       "4  1930  "
      ]
     },
     "execution_count": 178,
     "metadata": {},
     "output_type": "execute_result"
    }
   ],
   "source": [
    "players_df.head()"
   ]
  },
  {
   "cell_type": "code",
   "execution_count": 179,
   "metadata": {
    "collapsed": false
   },
   "outputs": [],
   "source": [
    "\"\"\"12 May 1908 => 12 May 1908 (aged 25)\"\"\"\n",
    "new_ages = []\n",
    "for index, row in players_df.iterrows():\n",
    "    date = row['Age']\n",
    "    if (len(date) < 5):\n",
    "        new_ages.append('Unknown')\n",
    "        continue\n",
    "    age = int(row['Year']) - int(date.split(' ')[2])\n",
    "    new_ages.append(date+'(aged '+str(age)+')')\n",
    "    \n",
    "players_df['Date of birth (age)'] = new_ages"
   ]
  },
  {
   "cell_type": "code",
   "execution_count": 180,
   "metadata": {
    "collapsed": false
   },
   "outputs": [],
   "source": [
    "matches_df      = matches_df     .reset_index().drop(labels='index', axis=1)\n",
    "player_cards_df = player_cards_df.reset_index().drop(labels='index', axis=1)\n",
    "player_goals_df = player_goals_df.reset_index().drop(labels='index', axis=1)\n",
    "team_cards_df   = team_cards_df  .reset_index().drop(labels='index', axis=1)\n",
    "team_goals_df   = team_goals_df  .reset_index().drop(labels='index', axis=1)\n",
    "players_df      = players_df     .reset_index().drop(labels='index', axis=1)"
   ]
  },
  {
   "cell_type": "code",
   "execution_count": 181,
   "metadata": {
    "collapsed": false
   },
   "outputs": [],
   "source": [
    "ALL_COUNTRY_CODES = set(players_df['CountryCode'])"
   ]
  },
  {
   "cell_type": "code",
   "execution_count": 182,
   "metadata": {
    "collapsed": true
   },
   "outputs": [],
   "source": [
    "\"\"\"Take a player_goals dataframe of a specific year of a specific team\n",
    "        return a list of tuples \n",
    "        ('PlayerName', 'Goals', 'MatchesPlayed','MinutesPlayed')\"\"\"\n",
    "\n",
    "def player_goals(df):\n",
    "    result = []\n",
    "    for index, row in df.iterrows():\n",
    "        result.append((row['Player'],row['Goals'],row['MatchesPlayed'], row['MinutesPlayed']))\n",
    "    return result"
   ]
  },
  {
   "cell_type": "code",
   "execution_count": 183,
   "metadata": {
    "collapsed": true
   },
   "outputs": [],
   "source": [
    "\"\"\"Take a team_goals dataframe of a specific year of a specific team\n",
    "        return a list of tuples \n",
    "        ('Goals', 'GoalsAgainst','MatchesPlayed')\"\"\"\n",
    "\n",
    "def team_goals(df):\n",
    "    result = []\n",
    "    for index, row in df.iterrows():\n",
    "        result.append((row['Goals'],row['GoalsAgainst'],row['MatchesPlayed']))\n",
    "    return result"
   ]
  },
  {
   "cell_type": "code",
   "execution_count": 184,
   "metadata": {
    "collapsed": false
   },
   "outputs": [],
   "source": [
    "\"\"\"Take a player_cards dataframe of a specific year of a specific team\n",
    "        return a list of tuples \n",
    "        ('PlayerName', 'RedCards', 'YellowCards')\"\"\"\n",
    "\n",
    "def player_cards(df):\n",
    "    result = []\n",
    "    for index, row in df.iterrows():\n",
    "        result.append((row['Player'],row['RedCards'],row['YellowCards']))\n",
    "    return result"
   ]
  },
  {
   "cell_type": "code",
   "execution_count": 185,
   "metadata": {
    "collapsed": true
   },
   "outputs": [],
   "source": [
    "\"\"\"Take a team_cards dataframe of a specific year of a specific team\n",
    "        return a list of tuples \n",
    "        ('RedCards', 'YellowCards', 'MatchesPlayed')\"\"\"\n",
    "\n",
    "def team_cards(df):\n",
    "    result = []\n",
    "    for index, row in df.iterrows():\n",
    "        result.append((row['RedCards'],row['YellowCards'],row['MatchesPlayed']))\n",
    "    return result"
   ]
  },
  {
   "cell_type": "code",
   "execution_count": 186,
   "metadata": {
    "collapsed": true
   },
   "outputs": [],
   "source": [
    "\"\"\"Take a players dataframe of a specific year of a specific team\n",
    "        return a list of tuples \n",
    "        ('Date of birth (age)', 'Player', 'Position')\"\"\"\n",
    "\n",
    "def team_squads(df):\n",
    "    result = []\n",
    "    for index, row in df.iterrows():\n",
    "        result.append((row['Date of birth (age)'],row['Player'],row['Position']))\n",
    "    return result"
   ]
  },
  {
   "cell_type": "code",
   "execution_count": 194,
   "metadata": {
    "collapsed": true
   },
   "outputs": [],
   "source": [
    "\"\"\"Take a matches dataframe of a specific year of a specific team\n",
    "        return a list of tuples \n",
    "        ('Attendance', 'AwayCode', 'AwayScore','AwayTeam', 'City', 'Date', \n",
    "        'Description', 'HomeCode', 'HomeScore','HomeTeam', 'Penalty', MatchReport)\n",
    "    \n",
    "   How to extract DF:\n",
    "   1) First find all matches of Switzerland\n",
    "   suisse_matches = \n",
    "       matches_df[(matches_df['AwayCode']=='SUI') | (matches_df['HomeCode']=='SUI')]\n",
    "   2) Then find all matches for a specific year \n",
    "   suisse_matches_year = \n",
    "       suisse_matches[suisse_matches['Date'].str.contains('2014')]\n",
    "   \"\"\"\n",
    "\n",
    "def matches(df):\n",
    "    result = []\n",
    "    for index, row in df.iterrows():\n",
    "        result.append((row['Attendance'],row['AwayCode'],row['AwayScore'],\n",
    "                       row['AwayTeam'],row['City'],row['Date'],\n",
    "                       row['Description'],row['HomeCode'],row['HomeScore'],\n",
    "                       row['HomeTeam'],row['Penalty'],row['MatchReport']\n",
    "                      ))\n",
    "    return result"
   ]
  },
  {
   "cell_type": "code",
   "execution_count": 195,
   "metadata": {
    "collapsed": false
   },
   "outputs": [],
   "source": [
    "teams = {}\n",
    "for ccode in ALL_COUNTRY_CODES:\n",
    "    all_matches = matches_df[(matches_df['AwayCode']==ccode) | (matches_df['HomeCode']==ccode)]\n",
    "    all_years   = set(all_matches['Year'])\n",
    "    years = {}\n",
    "    player_cards_ = player_cards_df[player_cards_df['CountryCode']==ccode]\n",
    "    team_cards_   = team_cards_df  [team_cards_df  ['CountryCode']==ccode]\n",
    "    team_goals_   = team_goals_df  [team_goals_df  ['CountryCode']==ccode]\n",
    "    player_goals_ = player_goals_df[player_goals_df['CountryCode']==ccode]\n",
    "    players       = players_df[players_df['CountryCode']==ccode]\n",
    "    country_name  = set(team_goals_['Country'])\n",
    "    for year in all_years:\n",
    "        infos = {}\n",
    "        infos['teamcards']   = team_cards(team_cards_[team_cards_['Year']==year])\n",
    "        infos['playercards'] = player_cards(player_cards_[player_cards_['Year']==year])\n",
    "        infos['teamgoals']   = team_goals(team_goals_[team_goals_['Year']==year])\n",
    "        infos['playergoals'] = player_goals(player_goals_[player_goals_['Year']==year])\n",
    "        infos['matches']     = matches(all_matches[all_matches['Year']==year])\n",
    "        infos['squads']      = team_squads(players[players['Year']==year])\n",
    "        years[year] = infos\n",
    "    teams[ccode] = years"
   ]
  },
  {
   "cell_type": "code",
   "execution_count": 196,
   "metadata": {
    "collapsed": false
   },
   "outputs": [],
   "source": [
    "with open('team_statistics.json', 'w') as fp:\n",
    "    json.dump(teams, fp)"
   ]
  },
  {
   "cell_type": "code",
   "execution_count": 197,
   "metadata": {
    "collapsed": false
   },
   "outputs": [
    {
     "data": {
      "text/html": [
       "<div>\n",
       "<table border=\"1\" class=\"dataframe\">\n",
       "  <thead>\n",
       "    <tr style=\"text-align: right;\">\n",
       "      <th></th>\n",
       "      <th>Attendance</th>\n",
       "      <th>AwayCode</th>\n",
       "      <th>AwayScore</th>\n",
       "      <th>AwayTeam</th>\n",
       "      <th>City</th>\n",
       "      <th>Date</th>\n",
       "      <th>Description</th>\n",
       "      <th>HomeCode</th>\n",
       "      <th>HomeScore</th>\n",
       "      <th>HomeTeam</th>\n",
       "      <th>MatchReport</th>\n",
       "      <th>Penalty</th>\n",
       "      <th>Year</th>\n",
       "    </tr>\n",
       "  </thead>\n",
       "  <tbody>\n",
       "    <tr>\n",
       "      <th>0</th>\n",
       "      <td>4444</td>\n",
       "      <td>MEX</td>\n",
       "      <td>1</td>\n",
       "      <td>Mexico</td>\n",
       "      <td>Montevideo</td>\n",
       "      <td>13 July 1930</td>\n",
       "      <td>Group matches - Group 1</td>\n",
       "      <td>FRA</td>\n",
       "      <td>4</td>\n",
       "      <td>France</td>\n",
       "      <td>https://www.fifa.com/worldcup/matches/round=20...</td>\n",
       "      <td></td>\n",
       "      <td>1930</td>\n",
       "    </tr>\n",
       "    <tr>\n",
       "      <th>1</th>\n",
       "      <td>18346</td>\n",
       "      <td>BEL</td>\n",
       "      <td>0</td>\n",
       "      <td>Belgium</td>\n",
       "      <td>Montevideo</td>\n",
       "      <td>13 July 1930</td>\n",
       "      <td>Group matches - Group 4</td>\n",
       "      <td>USA</td>\n",
       "      <td>3</td>\n",
       "      <td>USA</td>\n",
       "      <td>https://www.fifa.com/worldcup/matches/round=20...</td>\n",
       "      <td></td>\n",
       "      <td>1930</td>\n",
       "    </tr>\n",
       "    <tr>\n",
       "      <th>2</th>\n",
       "      <td>24059</td>\n",
       "      <td>BRA</td>\n",
       "      <td>1</td>\n",
       "      <td>Brazil</td>\n",
       "      <td>Montevideo</td>\n",
       "      <td>14 July 1930</td>\n",
       "      <td>Group matches - Group 2</td>\n",
       "      <td>YUG</td>\n",
       "      <td>2</td>\n",
       "      <td>Yugoslavia</td>\n",
       "      <td>https://www.fifa.com/worldcup/matches/round=20...</td>\n",
       "      <td></td>\n",
       "      <td>1930</td>\n",
       "    </tr>\n",
       "    <tr>\n",
       "      <th>3</th>\n",
       "      <td>2549</td>\n",
       "      <td>PER</td>\n",
       "      <td>1</td>\n",
       "      <td>Peru</td>\n",
       "      <td>Montevideo</td>\n",
       "      <td>14 July 1930</td>\n",
       "      <td>Group matches - Group 3</td>\n",
       "      <td>ROU</td>\n",
       "      <td>3</td>\n",
       "      <td>Romania</td>\n",
       "      <td>https://www.fifa.com/worldcup/matches/round=20...</td>\n",
       "      <td></td>\n",
       "      <td>1930</td>\n",
       "    </tr>\n",
       "    <tr>\n",
       "      <th>4</th>\n",
       "      <td>23409</td>\n",
       "      <td>FRA</td>\n",
       "      <td>0</td>\n",
       "      <td>France</td>\n",
       "      <td>Montevideo</td>\n",
       "      <td>15 July 1930</td>\n",
       "      <td>Group matches - Group 1</td>\n",
       "      <td>ARG</td>\n",
       "      <td>1</td>\n",
       "      <td>Argentina</td>\n",
       "      <td>https://www.fifa.com/worldcup/matches/round=20...</td>\n",
       "      <td></td>\n",
       "      <td>1930</td>\n",
       "    </tr>\n",
       "  </tbody>\n",
       "</table>\n",
       "</div>"
      ],
      "text/plain": [
       "   Attendance AwayCode AwayScore AwayTeam        City          Date  \\\n",
       "0        4444      MEX         1   Mexico  Montevideo  13 July 1930   \n",
       "1       18346      BEL         0  Belgium  Montevideo  13 July 1930   \n",
       "2       24059      BRA         1   Brazil  Montevideo  14 July 1930   \n",
       "3        2549      PER         1     Peru  Montevideo  14 July 1930   \n",
       "4       23409      FRA         0   France  Montevideo  15 July 1930   \n",
       "\n",
       "               Description HomeCode HomeScore    HomeTeam  \\\n",
       "0  Group matches - Group 1      FRA         4      France   \n",
       "1  Group matches - Group 4      USA         3         USA   \n",
       "2  Group matches - Group 2      YUG         2  Yugoslavia   \n",
       "3  Group matches - Group 3      ROU         3     Romania   \n",
       "4  Group matches - Group 1      ARG         1   Argentina   \n",
       "\n",
       "                                         MatchReport Penalty  Year  \n",
       "0  https://www.fifa.com/worldcup/matches/round=20...          1930  \n",
       "1  https://www.fifa.com/worldcup/matches/round=20...          1930  \n",
       "2  https://www.fifa.com/worldcup/matches/round=20...          1930  \n",
       "3  https://www.fifa.com/worldcup/matches/round=20...          1930  \n",
       "4  https://www.fifa.com/worldcup/matches/round=20...          1930  "
      ]
     },
     "execution_count": 197,
     "metadata": {},
     "output_type": "execute_result"
    }
   ],
   "source": [
    "matches_df.head()"
   ]
  },
  {
   "cell_type": "code",
   "execution_count": 37,
   "metadata": {
    "collapsed": false
   },
   "outputs": [],
   "source": [
    "teamnames = set()\n",
    "for code, name in zip(players_df['CountryCode'], players_df['Country']):\n",
    "    teamnames.add((code+name))"
   ]
  },
  {
   "cell_type": "code",
   "execution_count": 47,
   "metadata": {
    "collapsed": false
   },
   "outputs": [
    {
     "name": "stdout",
     "output_type": "stream",
     "text": [
      "JPNJapan,ECUEcuador,CANCanada,BULBulgaria,ARGArgentina,TURTurkey,CRCCosta Rica,BELBelgium,GDRGerman DR,HONHonduras,GREGreece,ENGEngland,CIVIvory Coast,TCHCzechoslovakia,UKRUkraine,SVKSlovakia,TOGTogo,PORPortugal,ESPSpain,BIHBosnia and Herzegovina,IRNIran,RUSRussia,CROCroatia,BOLBolivia,SCOScotland,PRKKorea DPR,ITAItaly,TRITrinidad and Tobago,MEXMexico,MARMorocco,JAMJamaica,KUWKuwait,FRAFrance,PERPeru,FRGGermany FR,CMRCameroon,ROURomania,SVNSlovenia,GHAGhana,URUUruguay,IRQIraq,POLPoland,CUBCuba,YUGYugoslavia,ALGAlgeria,CHIChile,INHDutch East Indies,USAUSA,PARParaguay,NZLNew Zealand,SCGSerbia and Montenegro,ANGAngola,ISRIsrael,SENSenegal,RSASouth Africa,HAIHaiti,CZECzech Republic,UAEUnited Arab Emirates,ZAIZaire,SUISwitzerland,KSASaudi Arabia,HUNHungary,GERGermany,NIRNorthern Ireland,COLColombia,BRABrazil,KORKorea Republic,EGYEgypt,NORNorway,DENDenmark,NEDNetherlands,URSSoviet Union,AUTAustria,SLVEl Salvador,CHNChina PR,AUSAustralia,IRLRepublic of Ireland,SRBSerbia,TUNTunisia,NGANigeria,SWESweden,WALWales,"
     ]
    }
   ],
   "source": [
    "for i in (teamnames):\n",
    "    print(i, end=',')"
   ]
  },
  {
   "cell_type": "code",
   "execution_count": null,
   "metadata": {
    "collapsed": true
   },
   "outputs": [],
   "source": [
    "with open('teams.txt', 'a') as the_file:\n",
    "    for i in teamnames:\n",
    "        the_file.write(i+'\\n')"
   ]
  }
 ],
 "metadata": {
  "kernelspec": {
   "display_name": "Python 3",
   "language": "python",
   "name": "python3"
  },
  "language_info": {
   "codemirror_mode": {
    "name": "ipython",
    "version": 3
   },
   "file_extension": ".py",
   "mimetype": "text/x-python",
   "name": "python",
   "nbconvert_exporter": "python",
   "pygments_lexer": "ipython3",
   "version": "3.6.0"
  }
 },
 "nbformat": 4,
 "nbformat_minor": 2
}
