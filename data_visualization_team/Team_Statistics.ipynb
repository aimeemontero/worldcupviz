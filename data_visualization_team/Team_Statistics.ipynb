{
 "cells": [
  {
   "cell_type": "code",
   "execution_count": 2,
   "metadata": {
    "collapsed": true
   },
   "outputs": [],
   "source": [
    "import pandas as pd\n",
    "import numpy as np\n",
    "import os\n",
    "import json\n",
    "import glob\n",
    "import csv"
   ]
  },
  {
   "cell_type": "markdown",
   "metadata": {},
   "source": [
    "## OUTPUT IS A JSON"
   ]
  },
  {
   "cell_type": "markdown",
   "metadata": {},
   "source": [
    "dict----->'USA'------>'1994'------>'teamcards'<br />\n",
    "&nbsp;&nbsp;&nbsp;&nbsp;&nbsp;&nbsp;&nbsp;&nbsp;&nbsp;&nbsp;&nbsp;&nbsp;&nbsp;&nbsp;&nbsp;&nbsp;&nbsp;&nbsp;&nbsp;&nbsp;&nbsp;&nbsp;&nbsp;&nbsp;&nbsp;&nbsp;&nbsp;&nbsp;&nbsp;&nbsp;&nbsp;&nbsp;&nbsp;&nbsp;&nbsp;&nbsp;&nbsp;&nbsp;&nbsp;&nbsp;&nbsp;&nbsp;&nbsp;&nbsp;\n",
    "------>'playercards'<br />\n",
    "&nbsp;&nbsp;&nbsp;&nbsp;&nbsp;&nbsp;&nbsp;&nbsp;&nbsp;&nbsp;&nbsp;&nbsp;&nbsp;&nbsp;&nbsp;&nbsp;&nbsp;&nbsp;&nbsp;&nbsp;&nbsp;&nbsp;&nbsp;&nbsp;&nbsp;&nbsp;&nbsp;&nbsp;&nbsp;&nbsp;&nbsp;&nbsp;&nbsp;&nbsp;&nbsp;&nbsp;&nbsp;&nbsp;&nbsp;&nbsp;&nbsp;&nbsp;&nbsp;&nbsp;\n",
    "------>'teamgoals'<br />\n",
    "&nbsp;&nbsp;&nbsp;&nbsp;&nbsp;&nbsp;&nbsp;&nbsp;&nbsp;&nbsp;&nbsp;&nbsp;&nbsp;&nbsp;&nbsp;&nbsp;&nbsp;&nbsp;&nbsp;&nbsp;&nbsp;&nbsp;&nbsp;&nbsp;&nbsp;&nbsp;&nbsp;&nbsp;&nbsp;&nbsp;&nbsp;&nbsp;&nbsp;&nbsp;&nbsp;&nbsp;&nbsp;&nbsp;&nbsp;&nbsp;&nbsp;&nbsp;&nbsp;&nbsp;\n",
    "------>'playergoals'<br />\n",
    "&nbsp;&nbsp;&nbsp;&nbsp;&nbsp;&nbsp;&nbsp;&nbsp;&nbsp;&nbsp;&nbsp;&nbsp;&nbsp;&nbsp;&nbsp;&nbsp;&nbsp;&nbsp;&nbsp;&nbsp;&nbsp;&nbsp;&nbsp;&nbsp;&nbsp;&nbsp;&nbsp;&nbsp;&nbsp;&nbsp;&nbsp;&nbsp;&nbsp;&nbsp;&nbsp;&nbsp;&nbsp;&nbsp;&nbsp;&nbsp;&nbsp;&nbsp;&nbsp;&nbsp;\n",
    "------>'matches'<br />\n",
    "&nbsp;&nbsp;&nbsp;&nbsp;&nbsp;&nbsp;&nbsp;&nbsp;&nbsp;&nbsp;&nbsp;&nbsp;&nbsp;&nbsp;&nbsp;&nbsp;&nbsp;&nbsp;&nbsp;&nbsp;&nbsp;&nbsp;&nbsp;&nbsp;&nbsp;&nbsp;&nbsp;&nbsp;&nbsp;&nbsp;&nbsp;&nbsp;&nbsp;&nbsp;&nbsp;&nbsp;&nbsp;&nbsp;&nbsp;&nbsp;&nbsp;&nbsp;&nbsp;&nbsp;\n",
    "------>'squads'<br />\n",
    "&nbsp;&nbsp;&nbsp;&nbsp;&nbsp;&nbsp;&nbsp;&nbsp;&nbsp;&nbsp;&nbsp;&nbsp;&nbsp;&nbsp;&nbsp;&nbsp;&nbsp;&nbsp;&nbsp;&nbsp;&nbsp;&nbsp;&nbsp;&nbsp;&nbsp;------>'2014'------>'teamcards'<br />\n",
    "&nbsp;&nbsp;&nbsp;&nbsp;&nbsp;&nbsp;&nbsp;&nbsp;&nbsp;&nbsp;&nbsp;&nbsp;&nbsp;&nbsp;&nbsp;&nbsp;&nbsp;&nbsp;&nbsp;&nbsp;&nbsp;&nbsp;&nbsp;&nbsp;&nbsp;&nbsp;&nbsp;&nbsp;&nbsp;&nbsp;&nbsp;&nbsp;&nbsp;&nbsp;&nbsp;&nbsp;&nbsp;&nbsp;&nbsp;&nbsp;&nbsp;&nbsp;&nbsp;&nbsp;\n",
    "------>'playercards'<br />\n",
    "&nbsp;&nbsp;&nbsp;&nbsp;&nbsp;&nbsp;&nbsp;&nbsp;&nbsp;&nbsp;&nbsp;&nbsp;&nbsp;&nbsp;&nbsp;&nbsp;&nbsp;&nbsp;&nbsp;&nbsp;&nbsp;&nbsp;&nbsp;&nbsp;&nbsp;&nbsp;&nbsp;&nbsp;&nbsp;&nbsp;&nbsp;&nbsp;&nbsp;&nbsp;&nbsp;&nbsp;&nbsp;&nbsp;&nbsp;&nbsp;&nbsp;&nbsp;&nbsp;&nbsp;\n",
    "------>'teamgoals'<br />\n",
    "&nbsp;&nbsp;&nbsp;&nbsp;&nbsp;&nbsp;&nbsp;&nbsp;&nbsp;&nbsp;&nbsp;&nbsp;&nbsp;&nbsp;&nbsp;&nbsp;&nbsp;&nbsp;&nbsp;&nbsp;&nbsp;&nbsp;&nbsp;&nbsp;&nbsp;&nbsp;&nbsp;&nbsp;&nbsp;&nbsp;&nbsp;&nbsp;&nbsp;&nbsp;&nbsp;&nbsp;&nbsp;&nbsp;&nbsp;&nbsp;&nbsp;&nbsp;&nbsp;&nbsp;\n",
    "------>'playergoals'<br />\n",
    "&nbsp;&nbsp;&nbsp;&nbsp;&nbsp;&nbsp;&nbsp;&nbsp;&nbsp;&nbsp;&nbsp;&nbsp;&nbsp;&nbsp;&nbsp;&nbsp;&nbsp;&nbsp;&nbsp;&nbsp;&nbsp;&nbsp;&nbsp;&nbsp;&nbsp;&nbsp;&nbsp;&nbsp;&nbsp;&nbsp;&nbsp;&nbsp;&nbsp;&nbsp;&nbsp;&nbsp;&nbsp;&nbsp;&nbsp;&nbsp;&nbsp;&nbsp;&nbsp;&nbsp;\n",
    "------>'matches'<br />\n",
    "&nbsp;&nbsp;&nbsp;&nbsp;&nbsp;&nbsp;&nbsp;&nbsp;&nbsp;&nbsp;&nbsp;&nbsp;&nbsp;&nbsp;&nbsp;&nbsp;&nbsp;&nbsp;&nbsp;&nbsp;&nbsp;&nbsp;&nbsp;&nbsp;&nbsp;&nbsp;&nbsp;&nbsp;&nbsp;&nbsp;&nbsp;&nbsp;&nbsp;&nbsp;&nbsp;&nbsp;&nbsp;&nbsp;&nbsp;&nbsp;&nbsp;&nbsp;&nbsp;&nbsp;\n",
    "------>'squads'<br />\n",
    "&nbsp;&nbsp;&nbsp;&nbsp;&nbsp;&nbsp;&nbsp;----->'SUI'------->'1930'------>'teamcards'<br />\n",
    "&nbsp;&nbsp;&nbsp;&nbsp;&nbsp;&nbsp;&nbsp;&nbsp;&nbsp;&nbsp;&nbsp;&nbsp;&nbsp;&nbsp;&nbsp;&nbsp;&nbsp;&nbsp;&nbsp;&nbsp;&nbsp;&nbsp;&nbsp;&nbsp;&nbsp;&nbsp;&nbsp;&nbsp;&nbsp;&nbsp;&nbsp;&nbsp;&nbsp;&nbsp;&nbsp;&nbsp;&nbsp;&nbsp;&nbsp;&nbsp;&nbsp;&nbsp;&nbsp;&nbsp;\n",
    "------>'playercards'<br />\n",
    "&nbsp;&nbsp;&nbsp;&nbsp;&nbsp;&nbsp;&nbsp;&nbsp;&nbsp;&nbsp;&nbsp;&nbsp;&nbsp;&nbsp;&nbsp;&nbsp;&nbsp;&nbsp;&nbsp;&nbsp;&nbsp;&nbsp;&nbsp;&nbsp;&nbsp;&nbsp;&nbsp;&nbsp;&nbsp;&nbsp;&nbsp;&nbsp;&nbsp;&nbsp;&nbsp;&nbsp;&nbsp;&nbsp;&nbsp;&nbsp;&nbsp;&nbsp;&nbsp;&nbsp;\n",
    "------>'teamgoals'<br />\n",
    "&nbsp;&nbsp;&nbsp;&nbsp;&nbsp;&nbsp;&nbsp;&nbsp;&nbsp;&nbsp;&nbsp;&nbsp;&nbsp;&nbsp;&nbsp;&nbsp;&nbsp;&nbsp;&nbsp;&nbsp;&nbsp;&nbsp;&nbsp;&nbsp;&nbsp;&nbsp;&nbsp;&nbsp;&nbsp;&nbsp;&nbsp;&nbsp;&nbsp;&nbsp;&nbsp;&nbsp;&nbsp;&nbsp;&nbsp;&nbsp;&nbsp;&nbsp;&nbsp;&nbsp;\n",
    "------>'playergoals'<br />\n",
    "&nbsp;&nbsp;&nbsp;&nbsp;&nbsp;&nbsp;&nbsp;&nbsp;&nbsp;&nbsp;&nbsp;&nbsp;&nbsp;&nbsp;&nbsp;&nbsp;&nbsp;&nbsp;&nbsp;&nbsp;&nbsp;&nbsp;&nbsp;&nbsp;&nbsp;&nbsp;&nbsp;&nbsp;&nbsp;&nbsp;&nbsp;&nbsp;&nbsp;&nbsp;&nbsp;&nbsp;&nbsp;&nbsp;&nbsp;&nbsp;&nbsp;&nbsp;&nbsp;&nbsp;\n",
    "------>'matches'<br />\n",
    "&nbsp;&nbsp;&nbsp;&nbsp;&nbsp;&nbsp;&nbsp;&nbsp;&nbsp;&nbsp;&nbsp;&nbsp;&nbsp;&nbsp;&nbsp;&nbsp;&nbsp;&nbsp;&nbsp;&nbsp;&nbsp;&nbsp;&nbsp;&nbsp;&nbsp;&nbsp;&nbsp;&nbsp;&nbsp;&nbsp;&nbsp;&nbsp;&nbsp;&nbsp;&nbsp;&nbsp;&nbsp;&nbsp;&nbsp;&nbsp;&nbsp;&nbsp;&nbsp;&nbsp;\n",
    "------>'squads'<br />"
   ]
  },
  {
   "cell_type": "code",
   "execution_count": 164,
   "metadata": {
    "collapsed": false
   },
   "outputs": [],
   "source": [
    "ROOT = './../World-Cup-Database/'\n",
    "codesRoot = ROOT + 'countries_alpha2.csv' \n",
    "geopath = \"./../../map.geojson\"\n",
    "countryPath = \"./../country-squared/*\""
   ]
  },
  {
   "cell_type": "code",
   "execution_count": 165,
   "metadata": {
    "collapsed": false
   },
   "outputs": [
    {
     "data": {
      "text/plain": [
       "['./../../map.geojson']"
      ]
     },
     "execution_count": 165,
     "metadata": {},
     "output_type": "execute_result"
    }
   ],
   "source": [
    "hostFolderNames = glob.glob(geopath)\n",
    "\n",
    "hostFolderNames = [file for file in hostFolderNames] #if hasNumbers(file)]\n",
    "hostFolderNames"
   ]
  },
  {
   "cell_type": "code",
   "execution_count": 166,
   "metadata": {
    "collapsed": false
   },
   "outputs": [
    {
     "data": {
      "text/plain": [
       "'ENG'"
      ]
     },
     "execution_count": 166,
     "metadata": {},
     "output_type": "execute_result"
    }
   ],
   "source": [
    "geojson = (pd.read_json(geopath).features).to_dict()\n",
    "geojson[0]['id']"
   ]
  },
  {
   "cell_type": "code",
   "execution_count": 167,
   "metadata": {
    "collapsed": false
   },
   "outputs": [
    {
     "data": {
      "text/plain": [
       "249"
      ]
     },
     "execution_count": 167,
     "metadata": {},
     "output_type": "execute_result"
    }
   ],
   "source": [
    "files = glob.glob(countryPath)\n",
    "filenames = [file.split(\"/\")[-1] for file in files]\n",
    "flagCodes = [file.split(\".\")[0] for file in filenames ]\n",
    "len(flagsCode)"
   ]
  },
  {
   "cell_type": "code",
   "execution_count": 168,
   "metadata": {
    "collapsed": false
   },
   "outputs": [
    {
     "data": {
      "text/html": [
       "<div>\n",
       "<table border=\"1\" class=\"dataframe\">\n",
       "  <thead>\n",
       "    <tr style=\"text-align: right;\">\n",
       "      <th></th>\n",
       "      <th>Code</th>\n",
       "      <th>Name</th>\n",
       "    </tr>\n",
       "  </thead>\n",
       "  <tbody>\n",
       "    <tr>\n",
       "      <th>0</th>\n",
       "      <td>AF</td>\n",
       "      <td>Afghanistan</td>\n",
       "    </tr>\n",
       "    <tr>\n",
       "      <th>1</th>\n",
       "      <td>AX</td>\n",
       "      <td>Åland Islands</td>\n",
       "    </tr>\n",
       "    <tr>\n",
       "      <th>2</th>\n",
       "      <td>AL</td>\n",
       "      <td>Albania</td>\n",
       "    </tr>\n",
       "    <tr>\n",
       "      <th>3</th>\n",
       "      <td>DZ</td>\n",
       "      <td>Algeria</td>\n",
       "    </tr>\n",
       "    <tr>\n",
       "      <th>4</th>\n",
       "      <td>AS</td>\n",
       "      <td>American Samoa</td>\n",
       "    </tr>\n",
       "  </tbody>\n",
       "</table>\n",
       "</div>"
      ],
      "text/plain": [
       "  Code            Name\n",
       "0   AF     Afghanistan\n",
       "1   AX   Åland Islands\n",
       "2   AL         Albania\n",
       "3   DZ         Algeria\n",
       "4   AS  American Samoa"
      ]
     },
     "execution_count": 168,
     "metadata": {},
     "output_type": "execute_result"
    }
   ],
   "source": [
    "codes = pd.read_csv(codesRoot)\n",
    "codes.head()"
   ]
  },
  {
   "cell_type": "code",
   "execution_count": 169,
   "metadata": {
    "collapsed": false
   },
   "outputs": [],
   "source": [
    "mapName = { \"United Kingdom\" : \"England\",  \"Côte d'Ivoire\" : \"Ivory Coast\", \"North Korea\" : \"Korea DPR\", \"Ireland\": \"Republic of Ireland\" ,\"South Korea\":\"Korea Republic\",  \"United States\":\"USA\", \"China\": \"China PR\"}\n",
    "codes.Code = codes.Code.map(lambda x : str(x).lower())\n",
    "names  = [ (str(c).upper(), x) if x not in mapName.keys() else (str(c).upper(), mapName[x]) for (c,x) in codes.values ]\n"
   ]
  },
  {
   "cell_type": "code",
   "execution_count": null,
   "metadata": {
    "collapsed": false
   },
   "outputs": [],
   "source": []
  },
  {
   "cell_type": "code",
   "execution_count": 170,
   "metadata": {
    "collapsed": true
   },
   "outputs": [],
   "source": [
    "def isoCode(countryName) :\n",
    "    for code, country in names :\n",
    "        code = code.lower()\n",
    "        if (country == countryName) :\n",
    "            if(code not in flagCodes):\n",
    "                print(name, code)\n",
    "            return code\n",
    "    return \"\""
   ]
  },
  {
   "cell_type": "code",
   "execution_count": 171,
   "metadata": {
    "collapsed": false
   },
   "outputs": [
    {
     "data": {
      "text/plain": [
       "200"
      ]
     },
     "execution_count": 171,
     "metadata": {},
     "output_type": "execute_result"
    }
   ],
   "source": [
    "len(geojson.values())"
   ]
  },
  {
   "cell_type": "code",
   "execution_count": 172,
   "metadata": {
    "collapsed": true
   },
   "outputs": [],
   "source": [
    "def hasNumber(strings) :\n",
    "    return any([char.isdigit() for char in strings])"
   ]
  },
  {
   "cell_type": "code",
   "execution_count": 173,
   "metadata": {
    "collapsed": false
   },
   "outputs": [
    {
     "data": {
      "text/plain": [
       "True"
      ]
     },
     "execution_count": 173,
     "metadata": {},
     "output_type": "execute_result"
    }
   ],
   "source": [
    "hasNumber(\"pep1e\")"
   ]
  },
  {
   "cell_type": "code",
   "execution_count": 174,
   "metadata": {
    "collapsed": false,
    "scrolled": true
   },
   "outputs": [],
   "source": [
    "all_dirs = [ item for item in os.listdir(ROOT) if os.path.isdir(os.path.join(ROOT, item)) ]\n",
    "all_dirs = [item for item in all_dirs if hasNumber(item)]"
   ]
  },
  {
   "cell_type": "code",
   "execution_count": null,
   "metadata": {
    "collapsed": true
   },
   "outputs": [],
   "source": []
  },
  {
   "cell_type": "code",
   "execution_count": 175,
   "metadata": {
    "collapsed": false
   },
   "outputs": [
    {
     "data": {
      "text/plain": [
       "{'argentina': ['1978'],\n",
       " 'brazil': ['2014', '1950'],\n",
       " 'chile': ['1962'],\n",
       " 'england': ['1966'],\n",
       " 'france': ['1938', '1998'],\n",
       " 'germany': ['2006', '1974'],\n",
       " 'italy': ['1990', '1934'],\n",
       " 'japan': ['2002'],\n",
       " 'korearepublic': ['2002'],\n",
       " 'mexico': ['1970', '1986'],\n",
       " 'southafrica': ['2010'],\n",
       " 'spain': ['1982'],\n",
       " 'sweden': ['1958'],\n",
       " 'switzerland': ['1954'],\n",
       " 'uruguay': ['1930'],\n",
       " 'usa': ['1994']}"
      ]
     },
     "execution_count": 175,
     "metadata": {},
     "output_type": "execute_result"
    }
   ],
   "source": [
    "host = pd.DataFrame([val.split(\"--\") for val in all_dirs], columns=[\"year\", \"country\"])\n",
    "host = host.groupby(\"country\").agg(lambda x : list(x))\n",
    "host = host.to_dict()\n",
    "host = host['year']\n",
    "host[\"japan\"] = ['2002']\n",
    "host[\"korearepublic\"] = ['2002']\n",
    "host.pop('koreajapan', None)\n",
    "host\n"
   ]
  },
  {
   "cell_type": "code",
   "execution_count": 176,
   "metadata": {
    "collapsed": false
   },
   "outputs": [],
   "source": [
    "list1 = []\n",
    "list2 = []\n",
    "list3 = []\n",
    "list4 = []\n",
    "list5 = []\n",
    "list6 = []\n",
    "for d in all_dirs:\n",
    "    MATCHES_PATH      = ROOT + d + '/matches/matches.csv'\n",
    "    PLAYER_CARDS_PATH = ROOT + d + '/statistics/player_top_cards.csv'\n",
    "    PLAYER_GOALS_PATH = ROOT + d + '/statistics/player_top_goals.csv'\n",
    "    TEAM_CARDS_PATH   = ROOT + d + '/statistics/team_top_cards.csv'\n",
    "    TEAM_GOALS_PATH   = ROOT + d + '/statistics/team_top_goals.csv'\n",
    "    TEAMS_PATH        = ROOT + d + '/teams/players.csv'\n",
    "    \n",
    "    \"\"\"Aggragate: have to put an extra column of year\"\"\"\n",
    "    year = d[:4]\n",
    "    pd1 = pd.read_csv(MATCHES_PATH)\n",
    "    pd1['Year'] = [year] * len(pd1)\n",
    "    pd2 = pd.read_csv(PLAYER_CARDS_PATH)\n",
    "    pd2['Year'] = [year] * len(pd2)\n",
    "    pd3 = pd.read_csv(PLAYER_GOALS_PATH)\n",
    "    pd3['Year'] = [year] * len(pd3)\n",
    "    pd4 = pd.read_csv(TEAM_CARDS_PATH)\n",
    "    pd4['Year'] = [year] * len(pd4)\n",
    "    pd5 = pd.read_csv(TEAM_GOALS_PATH)\n",
    "    pd5['Year'] = [year] * len(pd5)\n",
    "    pd6 = pd.read_csv(TEAMS_PATH)\n",
    "    pd6['Year'] = [year] * len(pd6)\n",
    "    \n",
    "    list1.append(pd1)\n",
    "    list2.append(pd2)\n",
    "    list3.append(pd3)\n",
    "    list4.append(pd4)\n",
    "    list5.append(pd5)\n",
    "    list6.append(pd6)    "
   ]
  },
  {
   "cell_type": "code",
   "execution_count": 177,
   "metadata": {
    "collapsed": false
   },
   "outputs": [],
   "source": [
    "matches_df      = pd.concat(list1)\n",
    "matches_df = matches_df.replace(np.nan, '', regex=True) # Penalty\n",
    "player_cards_df = pd.concat(list2)\n",
    "player_goals_df = pd.concat(list3)\n",
    "team_cards_df   = pd.concat(list4)\n",
    "team_goals_df   = pd.concat(list5)\n",
    "players_df      = pd.concat(list6)"
   ]
  },
  {
   "cell_type": "code",
   "execution_count": 178,
   "metadata": {
    "collapsed": false
   },
   "outputs": [
    {
     "data": {
      "text/html": [
       "<div>\n",
       "<table border=\"1\" class=\"dataframe\">\n",
       "  <thead>\n",
       "    <tr style=\"text-align: right;\">\n",
       "      <th></th>\n",
       "      <th>Age</th>\n",
       "      <th>Country</th>\n",
       "      <th>CountryCode</th>\n",
       "      <th>Player</th>\n",
       "      <th>Position</th>\n",
       "      <th>Year</th>\n",
       "    </tr>\n",
       "  </thead>\n",
       "  <tbody>\n",
       "    <tr>\n",
       "      <th>0</th>\n",
       "      <td>17 October 1963</td>\n",
       "      <td>Argentina</td>\n",
       "      <td>ARG</td>\n",
       "      <td>Sergio GOYCOCHEA</td>\n",
       "      <td>Goalkeeper</td>\n",
       "      <td>1994</td>\n",
       "    </tr>\n",
       "    <tr>\n",
       "      <th>1</th>\n",
       "      <td>23 November 1965</td>\n",
       "      <td>Argentina</td>\n",
       "      <td>ARG</td>\n",
       "      <td>Sergio VAZQUEZ</td>\n",
       "      <td>Defender</td>\n",
       "      <td>1994</td>\n",
       "    </tr>\n",
       "    <tr>\n",
       "      <th>2</th>\n",
       "      <td>17 May 1969</td>\n",
       "      <td>Argentina</td>\n",
       "      <td>ARG</td>\n",
       "      <td>Jose CHAMOT</td>\n",
       "      <td>Defender</td>\n",
       "      <td>1994</td>\n",
       "    </tr>\n",
       "    <tr>\n",
       "      <th>3</th>\n",
       "      <td>12 October 1966</td>\n",
       "      <td>Argentina</td>\n",
       "      <td>ARG</td>\n",
       "      <td>Roberto SENSINI</td>\n",
       "      <td>Defender</td>\n",
       "      <td>1994</td>\n",
       "    </tr>\n",
       "    <tr>\n",
       "      <th>4</th>\n",
       "      <td>6 June 1969</td>\n",
       "      <td>Argentina</td>\n",
       "      <td>ARG</td>\n",
       "      <td>Fernando REDONDO</td>\n",
       "      <td>Midfielder</td>\n",
       "      <td>1994</td>\n",
       "    </tr>\n",
       "  </tbody>\n",
       "</table>\n",
       "</div>"
      ],
      "text/plain": [
       "                  Age    Country CountryCode            Player    Position  \\\n",
       "0   17 October 1963    Argentina         ARG  Sergio GOYCOCHEA  Goalkeeper   \n",
       "1  23 November 1965    Argentina         ARG    Sergio VAZQUEZ    Defender   \n",
       "2       17 May 1969    Argentina         ARG       Jose CHAMOT    Defender   \n",
       "3   12 October 1966    Argentina         ARG   Roberto SENSINI    Defender   \n",
       "4       6 June 1969    Argentina         ARG  Fernando REDONDO  Midfielder   \n",
       "\n",
       "   Year  \n",
       "0  1994  \n",
       "1  1994  \n",
       "2  1994  \n",
       "3  1994  \n",
       "4  1994  "
      ]
     },
     "execution_count": 178,
     "metadata": {},
     "output_type": "execute_result"
    }
   ],
   "source": [
    "players_df.head()"
   ]
  },
  {
   "cell_type": "code",
   "execution_count": 179,
   "metadata": {
    "collapsed": false
   },
   "outputs": [],
   "source": [
    "\"\"\"12 May 1908 => 12 May 1908 (aged 25)\"\"\"\n",
    "new_ages = []\n",
    "for index, row in players_df.iterrows():\n",
    "    date = row['Age']\n",
    "    if (len(date) < 5):\n",
    "        new_ages.append('Unknown')\n",
    "        continue\n",
    "    age = int(row['Year']) - int(date.split(' ')[2])\n",
    "    new_ages.append(date+'(aged '+str(age)+')')\n",
    "    \n",
    "players_df['Date of birth (age)'] = new_ages"
   ]
  },
  {
   "cell_type": "code",
   "execution_count": 180,
   "metadata": {
    "collapsed": false
   },
   "outputs": [],
   "source": [
    "matches_df      = matches_df     .reset_index().drop(labels='index', axis=1)\n",
    "player_cards_df = player_cards_df.reset_index().drop(labels='index', axis=1)\n",
    "player_goals_df = player_goals_df.reset_index().drop(labels='index', axis=1)\n",
    "team_cards_df   = team_cards_df  .reset_index(drop=True)\n",
    "team_goals_df   = team_goals_df  .reset_index().drop(labels='index', axis=1)\n",
    "players_df      = players_df     .reset_index().drop(labels='index', axis=1)"
   ]
  },
  {
   "cell_type": "code",
   "execution_count": 181,
   "metadata": {
    "collapsed": false
   },
   "outputs": [
    {
     "data": {
      "text/html": [
       "<div>\n",
       "<table border=\"1\" class=\"dataframe\">\n",
       "  <thead>\n",
       "    <tr style=\"text-align: right;\">\n",
       "      <th></th>\n",
       "      <th>Country</th>\n",
       "      <th>CountryCode</th>\n",
       "      <th>MatchesPlayed</th>\n",
       "      <th>RedCards</th>\n",
       "      <th>YellowCards</th>\n",
       "      <th>Year</th>\n",
       "    </tr>\n",
       "  </thead>\n",
       "  <tbody>\n",
       "    <tr>\n",
       "      <th>0</th>\n",
       "      <td>Italy</td>\n",
       "      <td>ITA</td>\n",
       "      <td>7</td>\n",
       "      <td>2</td>\n",
       "      <td>11</td>\n",
       "      <td>1994</td>\n",
       "    </tr>\n",
       "    <tr>\n",
       "      <th>1</th>\n",
       "      <td>Sweden</td>\n",
       "      <td>SWE</td>\n",
       "      <td>7</td>\n",
       "      <td>1</td>\n",
       "      <td>13</td>\n",
       "      <td>1994</td>\n",
       "    </tr>\n",
       "    <tr>\n",
       "      <th>2</th>\n",
       "      <td>Bolivia</td>\n",
       "      <td>BOL</td>\n",
       "      <td>3</td>\n",
       "      <td>1</td>\n",
       "      <td>7</td>\n",
       "      <td>1994</td>\n",
       "    </tr>\n",
       "    <tr>\n",
       "      <th>3</th>\n",
       "      <td>Spain</td>\n",
       "      <td>ESP</td>\n",
       "      <td>5</td>\n",
       "      <td>1</td>\n",
       "      <td>13</td>\n",
       "      <td>1994</td>\n",
       "    </tr>\n",
       "    <tr>\n",
       "      <th>4</th>\n",
       "      <td>Romania</td>\n",
       "      <td>ROU</td>\n",
       "      <td>5</td>\n",
       "      <td>1</td>\n",
       "      <td>12</td>\n",
       "      <td>1994</td>\n",
       "    </tr>\n",
       "  </tbody>\n",
       "</table>\n",
       "</div>"
      ],
      "text/plain": [
       "   Country CountryCode  MatchesPlayed  RedCards  YellowCards  Year\n",
       "0    Italy         ITA              7         2           11  1994\n",
       "1   Sweden         SWE              7         1           13  1994\n",
       "2  Bolivia         BOL              3         1            7  1994\n",
       "3    Spain         ESP              5         1           13  1994\n",
       "4  Romania         ROU              5         1           12  1994"
      ]
     },
     "execution_count": 181,
     "metadata": {},
     "output_type": "execute_result"
    }
   ],
   "source": [
    "team_cards_df.head()"
   ]
  },
  {
   "cell_type": "code",
   "execution_count": 182,
   "metadata": {
    "collapsed": false
   },
   "outputs": [
    {
     "data": {
      "text/html": [
       "<div>\n",
       "<table border=\"1\" class=\"dataframe\">\n",
       "  <thead>\n",
       "    <tr style=\"text-align: right;\">\n",
       "      <th></th>\n",
       "      <th>CountryCode</th>\n",
       "      <th>Country</th>\n",
       "    </tr>\n",
       "  </thead>\n",
       "  <tbody>\n",
       "    <tr>\n",
       "      <th>0</th>\n",
       "      <td>ARG</td>\n",
       "      <td>Argentina</td>\n",
       "    </tr>\n",
       "    <tr>\n",
       "      <th>1</th>\n",
       "      <td>BEL</td>\n",
       "      <td>Belgium</td>\n",
       "    </tr>\n",
       "    <tr>\n",
       "      <th>2</th>\n",
       "      <td>BOL</td>\n",
       "      <td>Bolivia</td>\n",
       "    </tr>\n",
       "    <tr>\n",
       "      <th>3</th>\n",
       "      <td>BRA</td>\n",
       "      <td>Brazil</td>\n",
       "    </tr>\n",
       "    <tr>\n",
       "      <th>4</th>\n",
       "      <td>BUL</td>\n",
       "      <td>Bulgaria</td>\n",
       "    </tr>\n",
       "  </tbody>\n",
       "</table>\n",
       "</div>"
      ],
      "text/plain": [
       "  CountryCode    Country\n",
       "0         ARG  Argentina\n",
       "1         BEL    Belgium\n",
       "2         BOL    Bolivia\n",
       "3         BRA     Brazil\n",
       "4         BUL   Bulgaria"
      ]
     },
     "execution_count": 182,
     "metadata": {},
     "output_type": "execute_result"
    }
   ],
   "source": [
    "ALL_COUNTRY_CODES = set(players_df[['CountryCode','Country']])\n",
    "countryCode = players_df[['CountryCode','Country']]\n",
    "countryCode = countryCode.drop_duplicates().reset_index(drop=True)\n",
    "countryCode.head()"
   ]
  },
  {
   "cell_type": "code",
   "execution_count": 183,
   "metadata": {
    "collapsed": true
   },
   "outputs": [],
   "source": [
    "\"\"\"Take a player_goals dataframe of a specific year of a specific team\n",
    "        return a list of tuples \n",
    "        ('PlayerName', 'Goals', 'MatchesPlayed','MinutesPlayed')\"\"\"\n",
    "\n",
    "def player_goals(df):\n",
    "    result = []\n",
    "    for index, row in df.iterrows():\n",
    "        result.append((row['Player'],row['Goals'],row['MatchesPlayed'], row['MinutesPlayed']))\n",
    "    return result"
   ]
  },
  {
   "cell_type": "code",
   "execution_count": 184,
   "metadata": {
    "collapsed": true
   },
   "outputs": [],
   "source": [
    "\"\"\"Take a team_goals dataframe of a specific year of a specific team\n",
    "        return a list of tuples \n",
    "        ('Goals', 'GoalsAgainst','MatchesPlayed')\"\"\"\n",
    "\n",
    "def team_goals(df):\n",
    "    result = []\n",
    "    for index, row in df.iterrows():\n",
    "        result.append((row['Goals'],row['GoalsAgainst'],row['MatchesPlayed']))\n",
    "    \n",
    "    df = df[['Goals','GoalsAgainst','MatchesPlayed']]\n",
    "    return df.to_dict(orient='list')"
   ]
  },
  {
   "cell_type": "code",
   "execution_count": 185,
   "metadata": {
    "collapsed": false
   },
   "outputs": [],
   "source": [
    "\"\"\"Take a player_cards dataframe of a specific year of a specific team\n",
    "        return a list of tuples \n",
    "        ('PlayerName', 'RedCards', 'YellowCards')\"\"\"\n",
    "\n",
    "def player_cards(df):\n",
    "    result = []\n",
    "    for index, row in df.iterrows():\n",
    "        result.append((row['Player'],row['RedCards'],row['YellowCards']))\n",
    "    \n",
    "    df = df[['Player','RedCards','YellowCards']]\n",
    "    return df.to_dict(orient='list')"
   ]
  },
  {
   "cell_type": "code",
   "execution_count": 186,
   "metadata": {
    "collapsed": true
   },
   "outputs": [],
   "source": [
    "\"\"\"Take a team_cards dataframe of a specific year of a specific team\n",
    "        return a list of tuples \n",
    "        ('RedCards', 'YellowCards', 'MatchesPlayed')\"\"\"\n",
    "\n",
    "def team_cards(df):\n",
    "    df = df[['RedCards','YellowCards','MatchesPlayed']]\n",
    "    #result = []\n",
    "    #for index, row in df.iterrows():\n",
    "     #   result.append((row['RedCards'],row['YellowCards'],row['MatchesPlayed']))\n",
    "    return df.to_dict(orient='list')"
   ]
  },
  {
   "cell_type": "code",
   "execution_count": 187,
   "metadata": {
    "collapsed": true
   },
   "outputs": [],
   "source": [
    "\"\"\"Take a players dataframe of a specific year of a specific team\n",
    "        return a list of tuples \n",
    "        ('Date of birth (age)', 'Player', 'Position')\"\"\"\n",
    "\n",
    "def team_squads(df):\n",
    "    result = []\n",
    "    for index, row in df.iterrows():\n",
    "        result.append((row['Date of birth (age)'],row['Player'],row['Position']))\n",
    "        \n",
    "    df = df[['Date of birth (age)','Player','Position']]\n",
    "    return df.to_dict(orient='list')"
   ]
  },
  {
   "cell_type": "code",
   "execution_count": 188,
   "metadata": {
    "collapsed": true
   },
   "outputs": [],
   "source": [
    "\"\"\"Take a matches dataframe of a specific year of a specific team\n",
    "        return a list of tuples \n",
    "        ('Attendance', 'AwayCode', 'AwayScore','AwayTeam', 'City', 'Date', \n",
    "        'Description', 'HomeCode', 'HomeScore','HomeTeam', 'Penalty', MatchReport)\n",
    "    \n",
    "   How to extract DF:\n",
    "   1) First find all matches of Switzerland\n",
    "   suisse_matches = \n",
    "       matches_df[(matches_df['AwayCode']=='SUI') | (matches_df['HomeCode']=='SUI')]\n",
    "   2) Then find all matches for a specific year \n",
    "   suisse_matches_year = \n",
    "       suisse_matches[suisse_matches['Date'].str.contains('2014')]\n",
    "   \"\"\"\n",
    "\n",
    "def matches(df):\n",
    "    result = []\n",
    "    for index, row in df.iterrows():\n",
    "        result.append((row['Attendance'],row['AwayCode'],row['AwayScore'],\n",
    "                       row['AwayTeam'],row['City'],row['Date'],\n",
    "                       row['Description'],row['HomeCode'],row['HomeScore'],\n",
    "                       row['HomeTeam'],row['Penalty'],row['MatchReport']\n",
    "                      ))\n",
    "    df = df[['Attendance','AwayCode','AwayScore','AwayTeam','City','Date',\\\n",
    "                       'Description','HomeCode','HomeScore',\\\n",
    "                       'HomeTeam','Penalty','MatchReport']]\n",
    "    return df.to_dict(orient='list')"
   ]
  },
  {
   "cell_type": "code",
   "execution_count": 189,
   "metadata": {
    "collapsed": false
   },
   "outputs": [],
   "source": [
    "def geoJsonCode(countryName, code) :\n",
    "    for country in geojson.values() :\n",
    "        if(country['properties']['name'] == countryName or country['id'] == code) :\n",
    "            country['id'] = code\n",
    "            return True\n",
    "    return False"
   ]
  },
  {
   "cell_type": "code",
   "execution_count": 190,
   "metadata": {
    "collapsed": false
   },
   "outputs": [
    {
     "data": {
      "text/plain": [
       "82"
      ]
     },
     "execution_count": 190,
     "metadata": {},
     "output_type": "execute_result"
    }
   ],
   "source": [
    "len(countryCode.values)"
   ]
  },
  {
   "cell_type": "code",
   "execution_count": 191,
   "metadata": {
    "collapsed": false
   },
   "outputs": [],
   "source": [
    "combNames = {\"Zaire\":\"Democratic Republic of the Congo/Zaire\", \"Dutch East Indies\":\"Republic of Indonesia/Dutch East Indies\",\n",
    "            \"Democratic Republic of the Congo\":  \"Zaire\", \"Republic of Indonesia\":\"Republic of Indonesia/Dutch East Indies\"}\n",
    "combCodes : {\"Republic of Indonesia\":\"IDN\", \"Dutch East Indies\":\"IDN\", \"DR Congo\":\"COD\", \"Zaire\":\"COD\" }"
   ]
  },
  {
   "cell_type": "code",
   "execution_count": 192,
   "metadata": {
    "collapsed": false
   },
   "outputs": [
    {
     "name": "stdout",
     "output_type": "stream",
     "text": [
      "flag missing  INH Dutch East Indies\n"
     ]
    }
   ],
   "source": [
    "teams = {}\n",
    "count = 0;\n",
    "for [ccode, name] in countryCode.values:\n",
    "    all_matches = matches_df[(matches_df['AwayCode']==ccode) | (matches_df['HomeCode']==ccode)]\n",
    "    all_years   = set(all_matches['Year'])\n",
    "    years = {}\n",
    "    player_cards_ = player_cards_df[player_cards_df['CountryCode']==ccode]\n",
    "    team_cards_   = team_cards_df  [team_cards_df  ['CountryCode']==ccode]\n",
    "    team_goals_   = team_goals_df  [team_goals_df  ['CountryCode']==ccode]\n",
    "    player_goals_ = player_goals_df[player_goals_df['CountryCode']==ccode]\n",
    "    players       = players_df[players_df['CountryCode']==ccode]\n",
    "    country_name  = set(team_goals_['Country'])\n",
    "    for year in all_years:\n",
    "        infos = {}\n",
    "        infos['teamcards']   = team_cards(team_cards_[team_cards_['Year']==year])\n",
    "        infos['playercards'] = player_cards(player_cards_[player_cards_['Year']==year])\n",
    "        infos['teamgoals']   = team_goals(team_goals_[team_goals_['Year']==year])\n",
    "        infos['playergoals'] = player_goals(player_goals_[player_goals_['Year']==year])\n",
    "        infos['matches']     = matches(all_matches[all_matches['Year']==year])\n",
    "        infos['squads']      = team_squads(players[players['Year']==year])\n",
    "        years[year] = infos\n",
    "    \n",
    "    code = isoCode(name)\n",
    "    hostCountries = [];\n",
    "    \n",
    "    #if( not geoJsonCode(name, ccode) ) :\n",
    "     #   print(\"shape missing\", name, ccode)\n",
    "    \n",
    "    if (code == \"\") :\n",
    "        print (\"flag missing\", code, ccode, name)\n",
    "    fileName = name.replace(\" \", \"\").lower()\n",
    "    if (fileName in host) :\n",
    "        count += 1\n",
    "        hostCountries = host[fileName]\n",
    "    \n",
    "    if (len(code) == 0) :\n",
    "        code = ccode\n",
    "        \n",
    "    teams[ccode] = {}\n",
    "    teams[ccode]['years'] = years\n",
    "    teams[ccode]['isoCode'] = code\n",
    "    teams[ccode]['host'] = hostCountries"
   ]
  },
  {
   "cell_type": "code",
   "execution_count": 193,
   "metadata": {
    "collapsed": false,
    "scrolled": true
   },
   "outputs": [
    {
     "data": {
      "text/plain": [
       "True"
      ]
     },
     "execution_count": 193,
     "metadata": {},
     "output_type": "execute_result"
    }
   ],
   "source": [
    "count == len(host)"
   ]
  },
  {
   "cell_type": "code",
   "execution_count": null,
   "metadata": {
    "collapsed": false
   },
   "outputs": [],
   "source": []
  },
  {
   "cell_type": "code",
   "execution_count": 194,
   "metadata": {
    "collapsed": false
   },
   "outputs": [],
   "source": [
    "with open('team_statistics.json', 'w') as fp:\n",
    "    json.dump(teams, fp)"
   ]
  },
  {
   "cell_type": "code",
   "execution_count": 195,
   "metadata": {
    "collapsed": false
   },
   "outputs": [
    {
     "data": {
      "text/html": [
       "<div>\n",
       "<table border=\"1\" class=\"dataframe\">\n",
       "  <thead>\n",
       "    <tr style=\"text-align: right;\">\n",
       "      <th></th>\n",
       "      <th>Attendance</th>\n",
       "      <th>AwayCode</th>\n",
       "      <th>AwayScore</th>\n",
       "      <th>AwayTeam</th>\n",
       "      <th>City</th>\n",
       "      <th>Date</th>\n",
       "      <th>Description</th>\n",
       "      <th>HomeCode</th>\n",
       "      <th>HomeScore</th>\n",
       "      <th>HomeTeam</th>\n",
       "      <th>MatchReport</th>\n",
       "      <th>Penalty</th>\n",
       "      <th>Year</th>\n",
       "    </tr>\n",
       "  </thead>\n",
       "  <tbody>\n",
       "    <tr>\n",
       "      <th>0</th>\n",
       "      <td>56247</td>\n",
       "      <td>KOR</td>\n",
       "      <td>2</td>\n",
       "      <td>Korea Republic</td>\n",
       "      <td>Dallas</td>\n",
       "      <td>17 June 1994</td>\n",
       "      <td>Group matches - Group C</td>\n",
       "      <td>ESP</td>\n",
       "      <td>2</td>\n",
       "      <td>Spain</td>\n",
       "      <td>https://www.fifa.com/worldcup/matches/round=33...</td>\n",
       "      <td></td>\n",
       "      <td>1994</td>\n",
       "    </tr>\n",
       "    <tr>\n",
       "      <th>1</th>\n",
       "      <td>63117</td>\n",
       "      <td>BOL</td>\n",
       "      <td>0</td>\n",
       "      <td>Bolivia</td>\n",
       "      <td>Chicago</td>\n",
       "      <td>17 June 1994</td>\n",
       "      <td>Group matches - Group C</td>\n",
       "      <td>GER</td>\n",
       "      <td>1</td>\n",
       "      <td>Germany</td>\n",
       "      <td>https://www.fifa.com/worldcup/matches/round=33...</td>\n",
       "      <td></td>\n",
       "      <td>1994</td>\n",
       "    </tr>\n",
       "    <tr>\n",
       "      <th>2</th>\n",
       "      <td>73425</td>\n",
       "      <td>SUI</td>\n",
       "      <td>1</td>\n",
       "      <td>Switzerland</td>\n",
       "      <td>Detroit</td>\n",
       "      <td>18 June 1994</td>\n",
       "      <td>Group matches - Group A</td>\n",
       "      <td>USA</td>\n",
       "      <td>1</td>\n",
       "      <td>USA</td>\n",
       "      <td>https://www.fifa.com/worldcup/matches/round=33...</td>\n",
       "      <td></td>\n",
       "      <td>1994</td>\n",
       "    </tr>\n",
       "    <tr>\n",
       "      <th>3</th>\n",
       "      <td>75338</td>\n",
       "      <td>IRL</td>\n",
       "      <td>1</td>\n",
       "      <td>Republic of Ireland</td>\n",
       "      <td>New Yor</td>\n",
       "      <td>18 June 1994</td>\n",
       "      <td>Group matches - Group E</td>\n",
       "      <td>ITA</td>\n",
       "      <td>0</td>\n",
       "      <td>Italy</td>\n",
       "      <td>https://www.fifa.com/worldcup/matches/round=33...</td>\n",
       "      <td></td>\n",
       "      <td>1994</td>\n",
       "    </tr>\n",
       "    <tr>\n",
       "      <th>4</th>\n",
       "      <td>91856</td>\n",
       "      <td>ROU</td>\n",
       "      <td>3</td>\n",
       "      <td>Romania</td>\n",
       "      <td>Los Angeles</td>\n",
       "      <td>18 June 1994</td>\n",
       "      <td>Group matches - Group A</td>\n",
       "      <td>COL</td>\n",
       "      <td>1</td>\n",
       "      <td>Colombia</td>\n",
       "      <td>https://www.fifa.com/worldcup/matches/round=33...</td>\n",
       "      <td></td>\n",
       "      <td>1994</td>\n",
       "    </tr>\n",
       "  </tbody>\n",
       "</table>\n",
       "</div>"
      ],
      "text/plain": [
       "   Attendance AwayCode AwayScore             AwayTeam         City  \\\n",
       "0       56247      KOR         2       Korea Republic       Dallas   \n",
       "1       63117      BOL         0              Bolivia      Chicago   \n",
       "2       73425      SUI         1          Switzerland      Detroit   \n",
       "3       75338      IRL         1  Republic of Ireland      New Yor   \n",
       "4       91856      ROU         3              Romania  Los Angeles   \n",
       "\n",
       "           Date              Description HomeCode HomeScore  HomeTeam  \\\n",
       "0  17 June 1994  Group matches - Group C      ESP         2     Spain   \n",
       "1  17 June 1994  Group matches - Group C      GER         1   Germany   \n",
       "2  18 June 1994  Group matches - Group A      USA         1       USA   \n",
       "3  18 June 1994  Group matches - Group E      ITA         0     Italy   \n",
       "4  18 June 1994  Group matches - Group A      COL         1  Colombia   \n",
       "\n",
       "                                         MatchReport Penalty  Year  \n",
       "0  https://www.fifa.com/worldcup/matches/round=33...          1994  \n",
       "1  https://www.fifa.com/worldcup/matches/round=33...          1994  \n",
       "2  https://www.fifa.com/worldcup/matches/round=33...          1994  \n",
       "3  https://www.fifa.com/worldcup/matches/round=33...          1994  \n",
       "4  https://www.fifa.com/worldcup/matches/round=33...          1994  "
      ]
     },
     "execution_count": 195,
     "metadata": {},
     "output_type": "execute_result"
    }
   ],
   "source": [
    "matches_df.head()"
   ]
  },
  {
   "cell_type": "code",
   "execution_count": 196,
   "metadata": {
    "collapsed": false
   },
   "outputs": [],
   "source": [
    "teamnames = set()\n",
    "for code, name in zip(players_df['CountryCode'], players_df['Country']):\n",
    "    teamnames.add((code+name))"
   ]
  },
  {
   "cell_type": "code",
   "execution_count": 197,
   "metadata": {
    "collapsed": false
   },
   "outputs": [
    {
     "name": "stdout",
     "output_type": "stream",
     "text": [
      "GREGreece,FRGGermany FR,CHIChile,CIVIvory Coast,EGYEgypt,NGANigeria,IRLRepublic of Ireland,KSASaudi Arabia,USAUSA,URSSoviet Union,UAEUnited Arab Emirates,CRCCosta Rica,ARGArgentina,COLColombia,ANGAngola,BIHBosnia and Herzegovina,PRKKorea DPR,ISRIsrael,CANCanada,CHNChina PR,ROURomania,SLVEl Salvador,GHAGhana,BRABrazil,HAIHaiti,ZAIZaire,SCOScotland,YUGYugoslavia,PERPeru,SWESweden,SVNSlovenia,AUTAustria,ECUEcuador,BOLBolivia,RSASouth Africa,RUSRussia,PARParaguay,KORKorea Republic,ENGEngland,IRQIraq,AUSAustralia,HUNHungary,POLPoland,IRNIran,ITAItaly,NIRNorthern Ireland,JPNJapan,MARMorocco,PORPortugal,UKRUkraine,CROCroatia,CMRCameroon,BULBulgaria,GERGermany,TUNTunisia,GDRGerman DR,WALWales,SRBSerbia,BELBelgium,TCHCzechoslovakia,SENSenegal,URUUruguay,HONHonduras,KUWKuwait,SCGSerbia and Montenegro,ESPSpain,ALGAlgeria,TRITrinidad and Tobago,FRAFrance,DENDenmark,NEDNetherlands,NORNorway,TURTurkey,JAMJamaica,SVKSlovakia,MEXMexico,INHDutch East Indies,NZLNew Zealand,CUBCuba,TOGTogo,SUISwitzerland,CZECzech Republic,"
     ]
    }
   ],
   "source": [
    "for i in (teamnames):\n",
    "    print(i, end=',')"
   ]
  },
  {
   "cell_type": "code",
   "execution_count": 198,
   "metadata": {
    "collapsed": true
   },
   "outputs": [],
   "source": [
    "with open('teams.txt', 'a') as the_file:\n",
    "    for i in teamnames:\n",
    "        the_file.write(i+'\\n')"
   ]
  },
  {
   "cell_type": "code",
   "execution_count": null,
   "metadata": {
    "collapsed": false
   },
   "outputs": [],
   "source": []
  },
  {
   "cell_type": "code",
   "execution_count": 199,
   "metadata": {
    "collapsed": true
   },
   "outputs": [],
   "source": [
    "features = list(geojson.values())\n",
    "size = len(features)"
   ]
  },
  {
   "cell_type": "code",
   "execution_count": 200,
   "metadata": {
    "collapsed": false
   },
   "outputs": [],
   "source": [
    "with open(\"./../../simplemap.json\", 'w') as fp:\n",
    "    fp.write(\"{\\\"type\\\":\\\"FeatureCollection\\\",\\\"features\\\":[\")\n",
    "    for i in range(0, size-1) :\n",
    "        fp.write(json.dumps(features[i])+\",\")\n",
    "    fp.write(json.dumps(features[size-1])+\"]}\")"
   ]
  },
  {
   "cell_type": "code",
   "execution_count": 201,
   "metadata": {
    "collapsed": false
   },
   "outputs": [
    {
     "name": "stdout",
     "output_type": "stream",
     "text": [
      "{\"type\": \"Feature\", \"id\": \"ZWE\", \"properties\": {\"name\": \"Zimbabwe\"}, \"geometry\": {\"type\": \"Polygon\", \"coordinates\": [[[31.191409, -22.25151], [32.244988, -21.116489], [32.508693, -20.395292], [32.659743, -20.30429], [32.772708, -19.715592], [32.611994, -19.419383], [32.654886, -18.67209], [32.849861, -17.979057], [32.847639, -16.713398], [32.328239, -16.392074], [31.852041, -16.319417], [31.636498, -16.07199], [31.173064, -15.860944], [30.338955, -15.880839], [30.274256, -15.507787], [29.516834, -15.644678], [28.947463, -16.043051], [28.825869, -16.389749], [28.467906, -16.4684], [27.598243, -17.290831], [27.044427, -17.938026], [26.706773, -17.961229], [26.381935, -17.846042], [25.264226, -17.73654], [25.649163, -18.536026], [25.850391, -18.714413], [26.164791, -19.293086], [27.296505, -20.39152], [27.724747, -20.499059], [27.727228, -20.851802], [28.02137, -21.485975], [28.794656, -21.639454], [29.432188, -22.091313], [29.839037, -22.102216], [30.322883, -22.271612], [30.659865, -22.151567], [31.191409, -22.25151]]]}}\n"
     ]
    }
   ],
   "source": [
    "print(json.dumps(features[size-1]))"
   ]
  },
  {
   "cell_type": "code",
   "execution_count": null,
   "metadata": {
    "collapsed": true
   },
   "outputs": [],
   "source": []
  },
  {
   "cell_type": "code",
   "execution_count": null,
   "metadata": {
    "collapsed": true
   },
   "outputs": [],
   "source": []
  }
 ],
 "metadata": {
  "kernelspec": {
   "display_name": "Python 3",
   "language": "python",
   "name": "python3"
  },
  "language_info": {
   "codemirror_mode": {
    "name": "ipython",
    "version": 3
   },
   "file_extension": ".py",
   "mimetype": "text/x-python",
   "name": "python",
   "nbconvert_exporter": "python",
   "pygments_lexer": "ipython3",
   "version": "3.6.0"
  }
 },
 "nbformat": 4,
 "nbformat_minor": 2
}
